{
  "nbformat": 4,
  "nbformat_minor": 0,
  "metadata": {
    "colab": {
      "name": "Assignment_29thMay.ipynb",
      "version": "0.3.2",
      "provenance": []
    }
  },
  "cells": [
    {
      "cell_type": "markdown",
      "metadata": {
        "id": "view-in-github",
        "colab_type": "text"
      },
      "source": [
        "[View in Colaboratory](https://colab.research.google.com/github/khandelwal1998/Acadview-Assignments/blob/master/Assignment_29thMay.ipynb)"
      ]
    },
    {
      "metadata": {
        "id": "ySj-wTS7I5zj",
        "colab_type": "code",
        "colab": {}
      },
      "cell_type": "code",
      "source": [
        ""
      ],
      "execution_count": 0,
      "outputs": []
    },
    {
      "metadata": {
        "id": "DnvEZ2fLJPKl",
        "colab_type": "text"
      },
      "cell_type": "markdown",
      "source": [
        "**Question1**"
      ]
    },
    {
      "metadata": {
        "id": "4aoje3upJTvX",
        "colab_type": "code",
        "colab": {}
      },
      "cell_type": "code",
      "source": [
        "import numpy as np"
      ],
      "execution_count": 0,
      "outputs": []
    },
    {
      "metadata": {
        "id": "6AYpWf-AJ85q",
        "colab_type": "code",
        "colab": {}
      },
      "cell_type": "code",
      "source": [
        "x=np.random.randn(10,1)"
      ],
      "execution_count": 0,
      "outputs": []
    },
    {
      "metadata": {
        "id": "ZWW2vKOLKEho",
        "colab_type": "code",
        "colab": {
          "base_uri": "https://localhost:8080/",
          "height": 187
        },
        "outputId": "7c8b2fb0-bf3e-4277-85d0-ca15761f3469"
      },
      "cell_type": "code",
      "source": [
        "x"
      ],
      "execution_count": 5,
      "outputs": [
        {
          "output_type": "execute_result",
          "data": {
            "text/plain": [
              "array([[-0.46615581],\n",
              "       [-1.76483951],\n",
              "       [ 0.08109528],\n",
              "       [-0.63450537],\n",
              "       [ 2.22038864],\n",
              "       [-1.18888404],\n",
              "       [ 1.45256221],\n",
              "       [ 0.13940102],\n",
              "       [ 0.27438185],\n",
              "       [-0.14355573]])"
            ]
          },
          "metadata": {
            "tags": []
          },
          "execution_count": 5
        }
      ]
    },
    {
      "metadata": {
        "id": "jwivVi9BKIYi",
        "colab_type": "code",
        "colab": {
          "base_uri": "https://localhost:8080/",
          "height": 34
        },
        "outputId": "b81fd711-a09b-48b0-8359-fc8147d3f092"
      },
      "cell_type": "code",
      "source": [
        "x.mean()"
      ],
      "execution_count": 7,
      "outputs": [
        {
          "output_type": "execute_result",
          "data": {
            "text/plain": [
              "-0.0030111457333806073"
            ]
          },
          "metadata": {
            "tags": []
          },
          "execution_count": 7
        }
      ]
    },
    {
      "metadata": {
        "id": "67-bGox1KYgv",
        "colab_type": "text"
      },
      "cell_type": "markdown",
      "source": [
        "**Question 2**"
      ]
    },
    {
      "metadata": {
        "id": "o2LuMBjVKhIb",
        "colab_type": "code",
        "colab": {}
      },
      "cell_type": "code",
      "source": [
        "y=np.random.randn(20,1)"
      ],
      "execution_count": 0,
      "outputs": []
    },
    {
      "metadata": {
        "id": "ii2QB77YKmxu",
        "colab_type": "code",
        "colab": {
          "base_uri": "https://localhost:8080/",
          "height": 357
        },
        "outputId": "22704de3-1eeb-437c-a89f-d09a8419e0e9"
      },
      "cell_type": "code",
      "source": [
        "y"
      ],
      "execution_count": 10,
      "outputs": [
        {
          "output_type": "execute_result",
          "data": {
            "text/plain": [
              "array([[-0.80874806],\n",
              "       [-0.54865362],\n",
              "       [-0.43394973],\n",
              "       [-0.04724139],\n",
              "       [-1.57877487],\n",
              "       [ 0.67886653],\n",
              "       [-0.54894328],\n",
              "       [ 0.67165568],\n",
              "       [ 2.07849318],\n",
              "       [-1.59457835],\n",
              "       [ 1.35782261],\n",
              "       [ 0.18384831],\n",
              "       [-1.4459606 ],\n",
              "       [-1.20650868],\n",
              "       [ 0.61697321],\n",
              "       [-1.37637236],\n",
              "       [-0.2096444 ],\n",
              "       [ 0.57235388],\n",
              "       [-0.64224379],\n",
              "       [ 0.9487462 ]])"
            ]
          },
          "metadata": {
            "tags": []
          },
          "execution_count": 10
        }
      ]
    },
    {
      "metadata": {
        "id": "G1PdytITKnh2",
        "colab_type": "code",
        "colab": {}
      },
      "cell_type": "code",
      "source": [
        "variance=y.var()"
      ],
      "execution_count": 0,
      "outputs": []
    },
    {
      "metadata": {
        "id": "qAHHyDH0K5F5",
        "colab_type": "code",
        "colab": {}
      },
      "cell_type": "code",
      "source": [
        "  sd=y.std()"
      ],
      "execution_count": 0,
      "outputs": []
    },
    {
      "metadata": {
        "id": "l-FtT1e3LI0m",
        "colab_type": "code",
        "colab": {
          "base_uri": "https://localhost:8080/",
          "height": 34
        },
        "outputId": "62ada009-adb9-43cb-8ffb-b8245561bef2"
      },
      "cell_type": "code",
      "source": [
        "'variance:' ,variance"
      ],
      "execution_count": 26,
      "outputs": [
        {
          "output_type": "execute_result",
          "data": {
            "text/plain": [
              "('variance:', 1.0271022660160298)"
            ]
          },
          "metadata": {
            "tags": []
          },
          "execution_count": 26
        }
      ]
    },
    {
      "metadata": {
        "id": "aEhoDb59LpZo",
        "colab_type": "code",
        "colab": {
          "base_uri": "https://localhost:8080/",
          "height": 34
        },
        "outputId": "773868cb-a3e6-4616-cc25-e7cd5801265b"
      },
      "cell_type": "code",
      "source": [
        "print(\"standard deviation: \",sd)"
      ],
      "execution_count": 28,
      "outputs": [
        {
          "output_type": "stream",
          "text": [
            "('standard deviation: ', 1.013460539940273)\n"
          ],
          "name": "stdout"
        }
      ]
    },
    {
      "metadata": {
        "id": "BObj4ryILuRp",
        "colab_type": "text"
      },
      "cell_type": "markdown",
      "source": [
        "**Question 3**"
      ]
    },
    {
      "metadata": {
        "id": "VXivIfmTMFc7",
        "colab_type": "code",
        "colab": {}
      },
      "cell_type": "code",
      "source": [
        "A=np.random.randn(10,20)\n",
        "B=np.random.randn(20,25)"
      ],
      "execution_count": 0,
      "outputs": []
    },
    {
      "metadata": {
        "id": "tGMQ6IpmMQPl",
        "colab_type": "code",
        "colab": {
          "base_uri": "https://localhost:8080/",
          "height": 1207
        },
        "outputId": "da39bba9-760c-4013-cf4d-e81ee5d72b15"
      },
      "cell_type": "code",
      "source": [
        "c=np.dot(A,B)\n",
        "print(c)"
      ],
      "execution_count": 34,
      "outputs": [
        {
          "output_type": "stream",
          "text": [
            "[[-9.04469140e+00 -3.05907411e+00  4.28962489e-01 -3.98406128e+00\n",
            "  -2.16260253e+00 -2.31739574e+00 -7.40377065e-01 -4.23275039e+00\n",
            "   6.86822045e-01 -5.31090883e+00 -3.44722443e-01  1.36063312e+00\n",
            "   1.85900948e-01  9.86433944e-01  1.68084158e+00 -5.31770894e+00\n",
            "   7.26569461e+00 -1.10546139e+00 -2.39148247e+00  5.19664560e+00\n",
            "  -1.30579131e+00  1.18465411e-02  2.37427071e+00 -6.98598291e-01\n",
            "   2.77324294e+00]\n",
            " [-9.53106762e+00  1.87546400e+00  1.96069972e+00 -6.89020808e-01\n",
            "  -1.72445904e+00 -2.63023615e+00  2.70922297e+00  4.72069506e+00\n",
            "   2.01928404e+00  3.42553475e-01  2.04522274e+00  2.28273487e-01\n",
            "  -7.01501197e-01  2.37132236e-01  9.62933116e-01 -2.40200934e+00\n",
            "  -2.52410921e+00  2.36326907e-01  2.37188957e+00 -2.44577147e+00\n",
            "   1.57472547e-01 -4.72467149e-01  3.12996636e+00 -9.13272366e-01\n",
            "   1.76506510e+00]\n",
            " [-3.84472846e+00  6.63852345e+00  2.88791491e+00  2.02722756e+00\n",
            "  -3.05328446e+00 -2.12406119e+00  1.51364983e+00  4.72883473e+00\n",
            "   4.77339008e+00 -1.56191869e+00 -7.88644513e+00 -3.16336623e+00\n",
            "  -4.67522139e+00 -1.39181048e+00 -4.65293148e+00  1.21229530e+00\n",
            "   8.62295364e+00  3.54245235e+00 -5.90714074e+00  6.93757205e+00\n",
            "  -4.98265880e+00 -5.49856962e+00  9.43346835e+00 -1.31745967e+00\n",
            "  -2.73256294e+00]\n",
            " [-1.67200414e+00 -2.09230691e+00 -8.31396236e+00 -3.96691061e-01\n",
            "  -1.80525831e+00 -2.73178747e+00 -2.53192382e+00 -1.05958240e+01\n",
            "   2.95393816e+00 -5.37458388e+00 -1.81390630e+00  2.58376405e+00\n",
            "   3.51783595e+00 -1.64351860e+00 -8.73471437e-03 -7.09239056e-01\n",
            "   1.45537523e+00  1.14225689e+00 -3.03268501e-01  7.75194639e+00\n",
            "  -8.28229834e+00  7.83925625e-01 -5.77481217e-01 -3.99157551e+00\n",
            "  -3.19195862e+00]\n",
            " [ 2.89158465e+00  2.61562293e+00 -2.82815004e+00  1.05123745e+00\n",
            "   2.76636589e+00  3.50504695e+00 -1.93405628e+00  4.42122777e-01\n",
            "  -4.55261826e-01  3.38840109e+00  9.41221866e-01 -1.84794006e+00\n",
            "   7.12193333e+00 -2.21991150e-01  3.12532810e+00  1.09154492e+00\n",
            "   4.74998447e+00 -2.09548787e-01 -2.59065616e+00  5.36389304e-01\n",
            "   1.78198360e+00  5.48190072e-01 -2.09603741e-01 -3.15130145e+00\n",
            "  -3.65565515e+00]\n",
            " [-5.47055103e+00 -6.98918312e-02 -2.62394369e+00 -1.71694875e+00\n",
            "   1.59446080e+00  6.23872914e+00 -5.31600978e+00 -5.01014622e+00\n",
            "   8.67109083e+00  1.14901829e+00 -2.36298225e+00  3.66737497e-01\n",
            "  -5.81391851e-01  3.29188375e+00 -8.08458000e-01 -5.23376883e+00\n",
            "  -3.99875940e+00  3.96433324e+00  6.95724462e-01 -2.16747768e-01\n",
            "  -2.97651401e+00 -8.96628538e+00 -4.15859344e+00  6.88914436e+00\n",
            "   8.20843037e-01]\n",
            " [-7.70394411e+00 -2.85048842e+00 -3.84965070e+00  4.42793822e-01\n",
            "  -1.72380729e+00 -3.67491227e+00 -4.11797803e+00 -1.80667349e+00\n",
            "   6.11523386e+00  4.48424767e+00  4.91949806e-01  4.29293926e-01\n",
            "   3.30925886e-01  2.39224256e+00 -4.19713450e+00  3.19055454e-01\n",
            "  -5.28389331e+00  3.95229111e+00  9.51032809e-01  5.65557821e+00\n",
            "  -7.46127835e+00 -4.92999772e+00 -2.14986427e+00 -2.23218398e+00\n",
            "  -2.56172774e+00]\n",
            " [-5.73743112e+00  2.39481598e+00 -1.83109307e+00  9.97418955e-01\n",
            "   1.96829359e-01 -2.74294551e+00 -6.15560459e+00 -8.57673068e+00\n",
            "   1.82544574e+00 -4.19822074e+00 -4.06818511e+00  1.15589145e+00\n",
            "  -5.16658739e-02 -6.09973267e+00  3.22978830e+00  7.85839033e+00\n",
            "  -6.99155730e+00  5.03200052e+00  1.80590835e-01  3.24370057e+00\n",
            "  -7.49220092e-01  2.23294719e+00 -3.77029183e+00 -1.01997720e+00\n",
            "   2.48247133e-01]\n",
            " [ 5.69154581e+00 -4.90936352e+00  6.76315605e-01  6.62190425e-01\n",
            "   8.31796779e-01 -3.58836139e+00 -4.48052840e+00  7.73929066e-01\n",
            "  -1.37397562e+00  2.64399684e-01  1.52379525e+00  3.05091803e+00\n",
            "   2.09783618e-01 -2.88931630e+00 -5.44475185e+00 -2.66829365e+00\n",
            "  -4.42286050e+00  1.00946342e+00  3.82840104e+00 -2.42861008e+00\n",
            "  -1.00795069e+00  1.61507953e+00  3.08503206e-01  7.91524742e-01\n",
            "  -1.11462137e+00]\n",
            " [ 6.82450602e+00  1.54080935e+00  5.50810643e+00  3.69852207e+00\n",
            "  -3.02200173e+00  2.70860313e+00  2.73559575e+00  2.68799139e+00\n",
            "   1.28491011e+00 -2.74632293e+00 -2.21113183e+00 -5.84861307e+00\n",
            "   1.62509590e+00 -3.03898772e+00  3.93341938e+00  1.23859177e+00\n",
            "   1.31277520e+01  8.43361781e-01  3.67063037e+00  5.46581167e+00\n",
            "   3.45349853e+00  2.30919458e+00 -2.98602653e-01 -7.01221390e-01\n",
            "  -5.74644737e-01]]\n"
          ],
          "name": "stdout"
        }
      ]
    },
    {
      "metadata": {
        "id": "IVT2segTMvAQ",
        "colab_type": "code",
        "colab": {
          "base_uri": "https://localhost:8080/",
          "height": 34
        },
        "outputId": "cd9909ae-4906-4304-dbe8-5fcdd49dc6d7"
      },
      "cell_type": "code",
      "source": [
        "sum(sum(c))"
      ],
      "execution_count": 37,
      "outputs": [
        {
          "output_type": "execute_result",
          "data": {
            "text/plain": [
              "-72.285027817186"
            ]
          },
          "metadata": {
            "tags": []
          },
          "execution_count": 37
        }
      ]
    },
    {
      "metadata": {
        "id": "pDvSio2mNJDr",
        "colab_type": "text"
      },
      "cell_type": "markdown",
      "source": [
        "**Question 4**"
      ]
    },
    {
      "metadata": {
        "id": "TYTSc8ToNLbs",
        "colab_type": "code",
        "colab": {
          "base_uri": "https://localhost:8080/",
          "height": 391
        },
        "outputId": "47243581-52b6-4f84-c99c-7cccdde4a832"
      },
      "cell_type": "code",
      "source": [
        "A=np.random.randn(10,1)\n",
        "B=1/(1+np.exp(-A))\n",
        "print(A)\n",
        "print(\"\\n\")\n",
        "print(B)"
      ],
      "execution_count": 40,
      "outputs": [
        {
          "output_type": "stream",
          "text": [
            "[[ 0.72546176]\n",
            " [-0.22391753]\n",
            " [ 1.44874533]\n",
            " [-0.43736052]\n",
            " [ 0.38796777]\n",
            " [ 0.08779881]\n",
            " [ 1.00015781]\n",
            " [ 0.13094741]\n",
            " [-0.29407003]\n",
            " [ 1.19088672]]\n",
            "\n",
            "\n",
            "[[0.6738086 ]\n",
            " [0.44425335]\n",
            " [0.80980526]\n",
            " [0.39237008]\n",
            " [0.59579339]\n",
            " [0.52193561]\n",
            " [0.7310896 ]\n",
            " [0.53269015]\n",
            " [0.42700775]\n",
            " [0.76689962]]\n"
          ],
          "name": "stdout"
        }
      ]
    }
  ]
}