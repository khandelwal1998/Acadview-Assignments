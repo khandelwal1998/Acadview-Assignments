{
  "nbformat": 4,
  "nbformat_minor": 0,
  "metadata": {
    "colab": {
      "name": "Deep Learning.ipynb",
      "version": "0.3.2",
      "provenance": [],
      "include_colab_link": true
    },
    "kernelspec": {
      "name": "python2",
      "display_name": "Python 2"
    }
  },
  "cells": [
    {
      "cell_type": "markdown",
      "metadata": {
        "id": "view-in-github",
        "colab_type": "text"
      },
      "source": [
        "[View in Colaboratory](https://colab.research.google.com/github/khandelwal1998/Acadview-Assignments/blob/master/DL.ipynb)"
      ]
    },
    {
      "metadata": {
        "id": "Ddra_4VgsiEf",
        "colab_type": "text"
      },
      "cell_type": "markdown",
      "source": [
        "## Question 1"
      ]
    },
    {
      "metadata": {
        "id": "BiHgs81yk5Yn",
        "colab_type": "text"
      },
      "cell_type": "markdown",
      "source": [
        "u=a*b\n",
        "\n",
        "v=a*c\n",
        "\n",
        "w=b+c\n",
        "\n",
        "F=u+v-w\n",
        "\n",
        "F=(ab+ac)-(b+c)\n",
        "\n",
        "F=a(b+c)-(b+c)\n",
        "\n",
        "F=(b+c)(a-1)"
      ]
    },
    {
      "metadata": {
        "id": "x_XdYT9iv34M",
        "colab_type": "text"
      },
      "cell_type": "markdown",
      "source": [
        "## Question 2\n"
      ]
    },
    {
      "metadata": {
        "id": "XUzITuS1lnJk",
        "colab_type": "code",
        "colab": {
          "base_uri": "https://localhost:8080/",
          "height": 17
        },
        "outputId": "48a04afb-92de-4fe5-9266-92c7e8d068a4"
      },
      "cell_type": "code",
      "source": [
        "import math"
      ],
      "execution_count": 3,
      "outputs": []
    },
    {
      "metadata": {
        "id": "BR5O38bHiEVw",
        "colab_type": "code",
        "colab": {
          "base_uri": "https://localhost:8080/",
          "height": 17
        },
        "outputId": "c93a6433-62ba-4e61-94f4-37c9d049ca15"
      },
      "cell_type": "code",
      "source": [
        "x1 = -0.06\n",
        "x2 = -2.5\n",
        "x3 = 1.4\n",
        "w1 = 2.7\n",
        "w2 = -8.6\n",
        "w3 = 0.002"
      ],
      "execution_count": 4,
      "outputs": []
    },
    {
      "metadata": {
        "id": "X5-CjstakK7F",
        "colab_type": "code",
        "colab": {
          "base_uri": "https://localhost:8080/",
          "height": 17
        },
        "outputId": "df9550e1-4b72-4863-a43f-928df48895c6"
      },
      "cell_type": "code",
      "source": [
        "X=(w1*x1)+(w2*x2)+(w3*x3)"
      ],
      "execution_count": 5,
      "outputs": []
    },
    {
      "metadata": {
        "id": "z0BXrHd-ng3k",
        "colab_type": "code",
        "colab": {
          "base_uri": "https://localhost:8080/",
          "height": 17
        },
        "outputId": "97f19355-6d88-4d7c-b7f0-86994976cfd2"
      },
      "cell_type": "code",
      "source": [
        "f= 1 /(1 + math.exp(-X))"
      ],
      "execution_count": 6,
      "outputs": []
    },
    {
      "metadata": {
        "id": "_V9eXTJ6nq43",
        "colab_type": "code",
        "colab": {
          "base_uri": "https://localhost:8080/",
          "height": 34
        },
        "outputId": "bb760a7a-e81a-4012-d683-00d2e73a921c"
      },
      "cell_type": "code",
      "source": [
        "print(f)"
      ],
      "execution_count": 7,
      "outputs": [
        {
          "output_type": "stream",
          "text": [
            "0.999999999461\n"
          ],
          "name": "stdout"
        }
      ]
    },
    {
      "metadata": {
        "id": "HojETiQVnsnw",
        "colab_type": "code",
        "colab": {
          "base_uri": "https://localhost:8080/",
          "height": 17
        },
        "outputId": "b736a2e6-6bc6-4e08-8ab0-159f6fa034cc"
      },
      "cell_type": "code",
      "source": [
        "bias = -1.1"
      ],
      "execution_count": 9,
      "outputs": []
    },
    {
      "metadata": {
        "id": "PL6GMOxjn0Qf",
        "colab_type": "code",
        "colab": {
          "base_uri": "https://localhost:8080/",
          "height": 17
        },
        "outputId": "bb8fbe37-11a3-4118-91a0-730273fc9d56"
      },
      "cell_type": "code",
      "source": [
        "X1=X+bias"
      ],
      "execution_count": 10,
      "outputs": []
    },
    {
      "metadata": {
        "id": "--qjXK6on_lD",
        "colab_type": "code",
        "colab": {
          "base_uri": "https://localhost:8080/",
          "height": 17
        },
        "outputId": "fe74fced-4cde-4be3-c0db-5b7e193bded2"
      },
      "cell_type": "code",
      "source": [
        "f1 =1/(1 + math.exp(-X1))"
      ],
      "execution_count": 11,
      "outputs": []
    },
    {
      "metadata": {
        "id": "UB-fGStboLEc",
        "colab_type": "code",
        "colab": {
          "base_uri": "https://localhost:8080/",
          "height": 34
        },
        "outputId": "a1f8ef81-9306-43e6-d0ba-c47c4b09ff54"
      },
      "cell_type": "code",
      "source": [
        "print(f1)"
      ],
      "execution_count": 13,
      "outputs": [
        {
          "output_type": "stream",
          "text": [
            "0.99999999838\n"
          ],
          "name": "stdout"
        }
      ]
    },
    {
      "metadata": {
        "id": "vVnzlOK3vDI_",
        "colab_type": "text"
      },
      "cell_type": "markdown",
      "source": [
        ""
      ]
    },
    {
      "metadata": {
        "id": "ZPfCSEEDtXnf",
        "colab_type": "text"
      },
      "cell_type": "markdown",
      "source": [
        "## use of bias"
      ]
    },
    {
      "metadata": {
        "id": "gPH6XDJ7nAxu",
        "colab_type": "text"
      },
      "cell_type": "markdown",
      "source": [
        "The bias value allows the activation function to be shifted to the left or right, to better fit the data. \n",
        "With high bias the inputs tend to produce high output near to one.\n"
      ]
    },
    {
      "metadata": {
        "id": "Dj_7cE78nSby",
        "colab_type": "code",
        "colab": {}
      },
      "cell_type": "code",
      "source": [
        ""
      ],
      "execution_count": 0,
      "outputs": []
    }
  ]
}