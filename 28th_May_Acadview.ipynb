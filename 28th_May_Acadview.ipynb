{
  "nbformat": 4,
  "nbformat_minor": 0,
  "metadata": {
    "colab": {
      "name": "28th May Acadview.ipynb",
      "version": "0.3.2",
      "provenance": []
    },
    "kernelspec": {
      "name": "python2",
      "display_name": "Python 2"
    },
    "accelerator": "GPU"
  },
  "cells": [
    {
      "cell_type": "markdown",
      "metadata": {
        "id": "view-in-github",
        "colab_type": "text"
      },
      "source": [
        "[View in Colaboratory](https://colab.research.google.com/github/khandelwal1998/Acadview-Assignments/blob/master/28th_May_Acadview.ipynb)"
      ]
    },
    {
      "metadata": {
        "id": "Wj37DjYCdyTS",
        "colab_type": "code",
        "colab": {
          "base_uri": "https://localhost:8080/",
          "height": 17
        },
        "outputId": "107b636a-60d8-40b1-8341-ae00411a4c18"
      },
      "cell_type": "code",
      "source": [
        ""
      ],
      "execution_count": 0,
      "outputs": []
    },
    {
      "metadata": {
        "id": "lkrTBTSD6FZa",
        "colab_type": "text"
      },
      "cell_type": "markdown",
      "source": [
        "Question 1:\n",
        "Slicing from front and back\n"
      ]
    },
    {
      "metadata": {
        "id": "pJ29NHiw6mb6",
        "colab_type": "code",
        "colab": {
          "base_uri": "https://localhost:8080/",
          "height": 17
        },
        "outputId": "3d9db224-e72d-43ef-a413-9c4fdff7b0b9"
      },
      "cell_type": "code",
      "source": [
        "x = [1, 2, 3, 4, 5, 6, 7, 8, 9, 10, 11, 12, 13, 14, 15, 16]  "
      ],
      "execution_count": 1,
      "outputs": []
    },
    {
      "metadata": {
        "id": "_m_BfVFg6vph",
        "colab_type": "code",
        "colab": {
          "base_uri": "https://localhost:8080/",
          "height": 34
        },
        "outputId": "47896956-c8e4-4817-8335-db688d00211b"
      },
      "cell_type": "code",
      "source": [
        "x[7:12]"
      ],
      "execution_count": 2,
      "outputs": [
        {
          "output_type": "execute_result",
          "data": {
            "text/plain": [
              "[8, 9, 10, 11, 12]"
            ]
          },
          "metadata": {
            "tags": []
          },
          "execution_count": 2
        }
      ]
    },
    {
      "metadata": {
        "id": "ISgO9DLb631r",
        "colab_type": "code",
        "colab": {
          "base_uri": "https://localhost:8080/",
          "height": 34
        },
        "outputId": "5ad4bdf2-00c8-4324-a9ff-b2019b2c1468"
      },
      "cell_type": "code",
      "source": [
        "x[-9:-4:1]"
      ],
      "execution_count": 7,
      "outputs": [
        {
          "output_type": "execute_result",
          "data": {
            "text/plain": [
              "[8, 9, 10, 11, 12]"
            ]
          },
          "metadata": {
            "tags": []
          },
          "execution_count": 7
        }
      ]
    },
    {
      "metadata": {
        "id": "oFdlW0D-7DHW",
        "colab_type": "code",
        "colab": {
          "base_uri": "https://localhost:8080/",
          "height": 17
        },
        "outputId": "7fbd689b-05e3-42d1-c178-32fb3d238f18"
      },
      "cell_type": "code",
      "source": [
        ""
      ],
      "execution_count": 3,
      "outputs": []
    },
    {
      "metadata": {
        "id": "DIHh-jDa7JpI",
        "colab_type": "text"
      },
      "cell_type": "markdown",
      "source": [
        "Question 2: Print even number from x using list slicing only\n",
        "\n"
      ]
    },
    {
      "metadata": {
        "id": "PIW076eM7biU",
        "colab_type": "code",
        "colab": {
          "base_uri": "https://localhost:8080/",
          "height": 34
        },
        "outputId": "717c1e55-baca-424c-c7a5-7ce57078f0d9"
      },
      "cell_type": "code",
      "source": [
        "x[1::2]"
      ],
      "execution_count": 4,
      "outputs": [
        {
          "output_type": "execute_result",
          "data": {
            "text/plain": [
              "[2, 4, 6, 8, 10, 12, 14, 16]"
            ]
          },
          "metadata": {
            "tags": []
          },
          "execution_count": 4
        }
      ]
    },
    {
      "metadata": {
        "id": "rzylVDGo7g3w",
        "colab_type": "code",
        "colab": {
          "base_uri": "https://localhost:8080/",
          "height": 17
        },
        "outputId": "7c6116a4-6c98-42f3-f1b1-12d414df1bae"
      },
      "cell_type": "code",
      "source": [
        ""
      ],
      "execution_count": 4,
      "outputs": []
    },
    {
      "metadata": {
        "id": "_zZchUVV7j_k",
        "colab_type": "text"
      },
      "cell_type": "markdown",
      "source": [
        "Question 3:Print every 4th number using list slicing only."
      ]
    },
    {
      "metadata": {
        "id": "OWqrbM3R7oEq",
        "colab_type": "code",
        "colab": {
          "base_uri": "https://localhost:8080/",
          "height": 17
        },
        "outputId": "848a648d-53b3-45bc-a23d-2a6beb3a4d8f"
      },
      "cell_type": "code",
      "source": [
        ""
      ],
      "execution_count": 4,
      "outputs": []
    },
    {
      "metadata": {
        "id": "gw5I4ZaK7m6j",
        "colab_type": "code",
        "colab": {
          "base_uri": "https://localhost:8080/",
          "height": 34
        },
        "outputId": "17cfb9c0-b7ce-4dce-b954-65143e89dc5d"
      },
      "cell_type": "code",
      "source": [
        "x[0::4]"
      ],
      "execution_count": 5,
      "outputs": [
        {
          "output_type": "execute_result",
          "data": {
            "text/plain": [
              "[1, 5, 9, 13]"
            ]
          },
          "metadata": {
            "tags": []
          },
          "execution_count": 5
        }
      ]
    }
  ]
}