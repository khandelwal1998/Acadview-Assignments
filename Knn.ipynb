{
  "nbformat": 4,
  "nbformat_minor": 0,
  "metadata": {
    "colab": {
      "name": "TensorFlow with GPU",
      "version": "0.3.2",
      "provenance": [],
      "collapsed_sections": []
    },
    "kernelspec": {
      "display_name": "Python 2",
      "name": "python2"
    }
  },
  "cells": [
    {
      "cell_type": "markdown",
      "metadata": {
        "id": "view-in-github",
        "colab_type": "text"
      },
      "source": [
        "[View in Colaboratory](https://colab.research.google.com/github/khandelwal1998/Acadview-Assignments/blob/master/Knn.ipynb)"
      ]
    },
    {
      "metadata": {
        "id": "CcLgEUgTbe68",
        "colab_type": "text"
      },
      "cell_type": "markdown",
      "source": [
        "## KNN On MNIST Dataset\n"
      ]
    },
    {
      "metadata": {
        "id": "P3KXlo67bj67",
        "colab_type": "text"
      },
      "cell_type": "markdown",
      "source": [
        "Importing libraries and data set"
      ]
    },
    {
      "metadata": {
        "id": "9jAn4AB5boYi",
        "colab_type": "code",
        "colab": {
          "base_uri": "https://localhost:8080/",
          "height": 17
        },
        "outputId": "7199c120-74c3-4b61-8359-cbbeba67a47c"
      },
      "cell_type": "code",
      "source": [
        "import pandas as pd\n",
        "from sklearn.datasets import load_digits"
      ],
      "execution_count": 1,
      "outputs": []
    },
    {
      "metadata": {
        "id": "S0qGmQs_b9Z4",
        "colab_type": "code",
        "colab": {
          "base_uri": "https://localhost:8080/",
          "height": 17
        },
        "outputId": "7dcd3185-0b48-420d-f38e-2705cbc070e5"
      },
      "cell_type": "code",
      "source": [
        "mnist=load_digits()"
      ],
      "execution_count": 2,
      "outputs": []
    },
    {
      "metadata": {
        "id": "7fFFJ9w5b_sB",
        "colab_type": "code",
        "colab": {
          "base_uri": "https://localhost:8080/",
          "height": 17
        },
        "outputId": "e8623948-018c-4630-d581-d9eccc768210"
      },
      "cell_type": "code",
      "source": [
        "x=pd.DataFrame(mnist.data)"
      ],
      "execution_count": 5,
      "outputs": []
    },
    {
      "metadata": {
        "id": "nRznLvLxcGbl",
        "colab_type": "code",
        "colab": {
          "base_uri": "https://localhost:8080/",
          "height": 17
        },
        "outputId": "d69d45a7-6776-4105-9442-72d87b903866"
      },
      "cell_type": "code",
      "source": [
        "y=pd.DataFrame(mnist.target)"
      ],
      "execution_count": 6,
      "outputs": []
    },
    {
      "metadata": {
        "id": "oQB2cp8LcWOd",
        "colab_type": "code",
        "colab": {
          "base_uri": "https://localhost:8080/",
          "height": 17
        },
        "outputId": "34fca005-1f90-4b9a-966b-99db3db3359b"
      },
      "cell_type": "code",
      "source": [
        "from sklearn.model_selection import train_test_split"
      ],
      "execution_count": 7,
      "outputs": []
    },
    {
      "metadata": {
        "id": "JuW2SDYoccJP",
        "colab_type": "code",
        "colab": {
          "base_uri": "https://localhost:8080/",
          "height": 17
        },
        "outputId": "ed5cd841-e891-469a-ac90-7e97c2493406"
      },
      "cell_type": "code",
      "source": [
        "x_train,x_test,y_train,y_test=train_test_split(x,y,test_size=0.3,random_state=42)"
      ],
      "execution_count": 8,
      "outputs": []
    },
    {
      "metadata": {
        "id": "TNNN2rn3cns7",
        "colab_type": "code",
        "colab": {
          "base_uri": "https://localhost:8080/",
          "height": 17
        },
        "outputId": "6648e799-4599-43ee-e6d0-4e0268a59f09"
      },
      "cell_type": "code",
      "source": [
        "from sklearn.neighbors import KNeighborsClassifier\n",
        "from sklearn.metrics import accuracy_score"
      ],
      "execution_count": 13,
      "outputs": []
    },
    {
      "metadata": {
        "id": "ZC4dSNJfcxE9",
        "colab_type": "code",
        "colab": {
          "base_uri": "https://localhost:8080/",
          "height": 17
        },
        "outputId": "9b2259ec-ae06-4fbf-aed0-90d648feecf9"
      },
      "cell_type": "code",
      "source": [
        "model=KNeighborsClassifier(n_neighbors=5)"
      ],
      "execution_count": 27,
      "outputs": []
    },
    {
      "metadata": {
        "id": "0iCqo0VFc0Gx",
        "colab_type": "code",
        "colab": {
          "base_uri": "https://localhost:8080/",
          "height": 122
        },
        "outputId": "a3368d36-d84a-4340-e4b4-00bef3dce0d2"
      },
      "cell_type": "code",
      "source": [
        "model.fit(x_train,y_train)"
      ],
      "execution_count": 28,
      "outputs": [
        {
          "output_type": "stream",
          "text": [
            "/usr/local/lib/python2.7/dist-packages/ipykernel_launcher.py:1: DataConversionWarning: A column-vector y was passed when a 1d array was expected. Please change the shape of y to (n_samples, ), for example using ravel().\n",
            "  \"\"\"Entry point for launching an IPython kernel.\n"
          ],
          "name": "stderr"
        },
        {
          "output_type": "execute_result",
          "data": {
            "text/plain": [
              "KNeighborsClassifier(algorithm='auto', leaf_size=30, metric='minkowski',\n",
              "           metric_params=None, n_jobs=1, n_neighbors=5, p=2,\n",
              "           weights='uniform')"
            ]
          },
          "metadata": {
            "tags": []
          },
          "execution_count": 28
        }
      ]
    },
    {
      "metadata": {
        "id": "vhkeE7BSc4F3",
        "colab_type": "code",
        "colab": {
          "base_uri": "https://localhost:8080/",
          "height": 17
        },
        "outputId": "190ddf56-6400-4f2e-f004-7031f2ab5a77"
      },
      "cell_type": "code",
      "source": [
        "prediction=model.predict(x_test)"
      ],
      "execution_count": 29,
      "outputs": []
    },
    {
      "metadata": {
        "id": "UhTm8H_zc9i0",
        "colab_type": "code",
        "colab": {
          "base_uri": "https://localhost:8080/",
          "height": 34
        },
        "outputId": "5163695a-0db4-467f-c491-cbdb02bb777a"
      },
      "cell_type": "code",
      "source": [
        "print(accuracy_score(y_test,prediction))"
      ],
      "execution_count": 30,
      "outputs": [
        {
          "output_type": "stream",
          "text": [
            "0.9925925925925926\n"
          ],
          "name": "stdout"
        }
      ]
    },
    {
      "metadata": {
        "id": "wannpcaudH0w",
        "colab_type": "code",
        "colab": {}
      },
      "cell_type": "code",
      "source": [
        ""
      ],
      "execution_count": 0,
      "outputs": []
    }
  ]
}