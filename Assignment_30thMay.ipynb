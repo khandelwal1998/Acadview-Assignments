{
  "nbformat": 4,
  "nbformat_minor": 0,
  "metadata": {
    "colab": {
      "name": "Untitled0.ipynb",
      "version": "0.3.2",
      "provenance": []
    },
    "kernelspec": {
      "name": "python3",
      "display_name": "Python 3"
    }
  },
  "cells": [
    {
      "cell_type": "markdown",
      "metadata": {
        "id": "view-in-github",
        "colab_type": "text"
      },
      "source": [
        "[View in Colaboratory](https://colab.research.google.com/github/khandelwal1998/Acadview-Assignments/blob/master/Assignment_30thMay.ipynb)"
      ]
    },
    {
      "metadata": {
        "id": "qvo55Hz0T1M9",
        "colab_type": "text"
      },
      "cell_type": "markdown",
      "source": [
        "Question 1\n",
        "\n",
        "Consider the below given probabilities: P(A) = 11 / 36 P(B) = 6 / 36 P(A|B) = 2 / 36 Write a function in Python which takes 3 probabilities as argument and outputs the Conditional probability P(B|A).\n",
        "\n",
        "p(B|A)=P(A and B)/p(A)"
      ]
    },
    {
      "metadata": {
        "id": "BwXlAGgFUVBB",
        "colab_type": "code",
        "colab": {}
      },
      "cell_type": "code",
      "source": [
        "def fun(a,b,c):\n",
        "\n",
        "  return((c*b)/a)"
      ],
      "execution_count": 0,
      "outputs": []
    },
    {
      "metadata": {
        "id": "qGJKb2G0UaS1",
        "colab_type": "code",
        "colab": {
          "base_uri": "https://localhost:8080/",
          "height": 34
        },
        "outputId": "9d4da472-0deb-4aea-eea6-04eaee5dd6ec"
      },
      "cell_type": "code",
      "source": [
        "a=11/36\n",
        "b=6/36\n",
        "c=2/36\n",
        "print(fun(a,b,c))"
      ],
      "execution_count": 6,
      "outputs": [
        {
          "output_type": "stream",
          "text": [
            "0.0303030303030303\n"
          ],
          "name": "stdout"
        }
      ]
    },
    {
      "metadata": {
        "id": "oCnzPbdqWGHy",
        "colab_type": "text"
      },
      "cell_type": "markdown",
      "source": [
        "**Question 2**"
      ]
    },
    {
      "metadata": {
        "id": "kf9ueGfQWImh",
        "colab_type": "text"
      },
      "cell_type": "markdown",
      "source": [
        "Bag I contains 4 white and 6 black balls while another Bag II contains 4 white and 3 black balls. One ball is drawn at random from one of the bags and it is found to be black. Find the probability that it was drawn from Bag I.\n"
      ]
    },
    {
      "metadata": {
        "id": "j4Q44pX9WJ8B",
        "colab_type": "text"
      },
      "cell_type": "markdown",
      "source": [
        "p(B1)=1/2 \n",
        "\n",
        "p(B2)=1/2\n",
        "\n",
        "p(A/B1)=6/10      \n",
        "\n",
        "//Probability of black from bag 1\n",
        "\n",
        "p(A/B2)=3/7       \n",
        "\n",
        "//Probability of black from bag 2\n",
        "\n",
        "P(B1/A)=(p(A/B1)p(B1))/(p(B1)*p(A/B1)+p(B2)*p(A/B2))\n",
        "\n",
        "\n",
        "\n"
      ]
    },
    {
      "metadata": {
        "id": "J8cmP-i_Xzaf",
        "colab_type": "code",
        "colab": {
          "base_uri": "https://localhost:8080/",
          "height": 34
        },
        "outputId": "164f828b-80e4-49d0-b456-8c75208457b6"
      },
      "cell_type": "code",
      "source": [
        "((6/10*1/2)/(1/2*6/10+1/2*3/7))"
      ],
      "execution_count": 11,
      "outputs": [
        {
          "output_type": "execute_result",
          "data": {
            "text/plain": [
              "0.5833333333333334"
            ]
          },
          "metadata": {
            "tags": []
          },
          "execution_count": 11
        }
      ]
    },
    {
      "metadata": {
        "id": "6Gi1J32oYxAh",
        "colab_type": "text"
      },
      "cell_type": "markdown",
      "source": [
        "**Question 3**"
      ]
    },
    {
      "metadata": {
        "id": "AUx7yUm9Y0Su",
        "colab_type": "text"
      },
      "cell_type": "markdown",
      "source": [
        "A man is known to speak truth 2 out of 3 times. He throws a die and reports that number obtained is a four. Find the probability that the number obtained is actually a four."
      ]
    },
    {
      "metadata": {
        "id": "sQN6HPpjY5DG",
        "colab_type": "text"
      },
      "cell_type": "markdown",
      "source": [
        "p(s1)=1/6\n",
        "\n",
        "(probability of getting 4)\n",
        "\n",
        "p(s2)=5/6\n",
        "\n",
        "(probability of not getting 4)\n",
        "\n",
        "P(E/s1)=2/3\n",
        "\n",
        "(Probability of truth)\n",
        "\n",
        "p(E/s2)=1/3\n",
        "\n",
        "(Probability of false)\n",
        "\n",
        "p(s1/e)=(P(e/s1)*s1)/(p(e/s1)*p(s1)+p(e/s2)*p(s2))"
      ]
    },
    {
      "metadata": {
        "id": "K7dwNNCGWpuJ",
        "colab_type": "code",
        "colab": {
          "base_uri": "https://localhost:8080/",
          "height": 34
        },
        "outputId": "c2d839aa-0a3a-40b9-a918-c9fa8832d2c0"
      },
      "cell_type": "code",
      "source": [
        "((2/3*1/6)/((2/3*1/6)+(1/3*5/6)))"
      ],
      "execution_count": 12,
      "outputs": [
        {
          "output_type": "execute_result",
          "data": {
            "text/plain": [
              "0.28571428571428575"
            ]
          },
          "metadata": {
            "tags": []
          },
          "execution_count": 12
        }
      ]
    }
  ]
}