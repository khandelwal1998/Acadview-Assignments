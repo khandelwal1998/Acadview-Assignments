{
  "nbformat": 4,
  "nbformat_minor": 0,
  "metadata": {
    "colab": {
      "name": "TensorFlow with GPU",
      "version": "0.3.2",
      "provenance": [],
      "collapsed_sections": []
    },
    "kernelspec": {
      "display_name": "Python 2",
      "name": "python2"
    }
  },
  "cells": [
    {
      "cell_type": "markdown",
      "metadata": {
        "id": "view-in-github",
        "colab_type": "text"
      },
      "source": [
        "[View in Colaboratory](https://colab.research.google.com/github/khandelwal1998/Acadview-Assignments/blob/master/13th_June.ipynb)"
      ]
    },
    {
      "metadata": {
        "id": "de-TmOKxHXBk",
        "colab_type": "text"
      },
      "cell_type": "markdown",
      "source": [
        "## Importing and setting up of the data set\n"
      ]
    },
    {
      "metadata": {
        "id": "VhCatZVODdH4",
        "colab_type": "code",
        "colab": {
          "base_uri": "https://localhost:8080/",
          "height": 17
        },
        "outputId": "e9d7af8b-9c83-483e-fea5-d7f1ba6cc1a0"
      },
      "cell_type": "code",
      "source": [
        "from sklearn.datasets import load_digits\n",
        "import pandas as pd"
      ],
      "execution_count": 50,
      "outputs": []
    },
    {
      "metadata": {
        "id": "sbkybaMJDsY3",
        "colab_type": "code",
        "colab": {
          "base_uri": "https://localhost:8080/",
          "height": 17
        },
        "outputId": "896f2a7f-f575-4381-e770-ad8f91e8580e"
      },
      "cell_type": "code",
      "source": [
        "mnist=load_digits()"
      ],
      "execution_count": 51,
      "outputs": []
    },
    {
      "metadata": {
        "id": "QdIMzg1PD_e2",
        "colab_type": "code",
        "colab": {
          "base_uri": "https://localhost:8080/",
          "height": 17
        },
        "outputId": "c0ae395c-47fb-444e-a298-a561cf709c50"
      },
      "cell_type": "code",
      "source": [
        "X=mnist.data\n",
        "y=mnist.target"
      ],
      "execution_count": 52,
      "outputs": []
    },
    {
      "metadata": {
        "id": "yfD52_yiEGQn",
        "colab_type": "code",
        "colab": {
          "base_uri": "https://localhost:8080/",
          "height": 17
        },
        "outputId": "5b5d4f79-67c8-4c51-f124-92d8773cf636"
      },
      "cell_type": "code",
      "source": [
        "X=pd.DataFrame(X)\n",
        "y=pd.DataFrame(y)"
      ],
      "execution_count": 53,
      "outputs": []
    },
    {
      "metadata": {
        "id": "T1HSI0CnH6il",
        "colab_type": "text"
      },
      "cell_type": "markdown",
      "source": [
        "## Splitting of data and model prediction"
      ]
    },
    {
      "metadata": {
        "id": "OEhAaOKyH_xN",
        "colab_type": "code",
        "colab": {
          "base_uri": "https://localhost:8080/",
          "height": 17
        },
        "outputId": "2e845c25-0fe6-4e34-a932-7bdf7d23e3e6"
      },
      "cell_type": "code",
      "source": [
        "from sklearn.model_selection import train_test_split\n",
        "from sklearn.linear_model import LogisticRegression"
      ],
      "execution_count": 54,
      "outputs": []
    },
    {
      "metadata": {
        "id": "-PzRa163Hg0R",
        "colab_type": "code",
        "colab": {
          "base_uri": "https://localhost:8080/",
          "height": 17
        },
        "outputId": "11cae471-8728-4497-e69e-02d8db14f1ca"
      },
      "cell_type": "code",
      "source": [
        "X_train,X_test,y_train,y_test=train_test_split(X,y,test_size=0.3)"
      ],
      "execution_count": 55,
      "outputs": []
    },
    {
      "metadata": {
        "id": "cA3qYg8OISPn",
        "colab_type": "code",
        "colab": {
          "base_uri": "https://localhost:8080/",
          "height": 17
        },
        "outputId": "60cc2867-5899-4d7a-d340-aa2214fcab54"
      },
      "cell_type": "code",
      "source": [
        "model=LogisticRegression()"
      ],
      "execution_count": 56,
      "outputs": []
    },
    {
      "metadata": {
        "id": "ZChiPqJbIWBc",
        "colab_type": "code",
        "colab": {
          "base_uri": "https://localhost:8080/",
          "height": 85
        },
        "outputId": "5ca52d65-f448-44da-a900-ae107bfaa869"
      },
      "cell_type": "code",
      "source": [
        "model.fit(X_train,y_train)"
      ],
      "execution_count": 57,
      "outputs": [
        {
          "output_type": "execute_result",
          "data": {
            "text/plain": [
              "LogisticRegression(C=1.0, class_weight=None, dual=False, fit_intercept=True,\n",
              "          intercept_scaling=1, max_iter=100, multi_class='ovr', n_jobs=1,\n",
              "          penalty='l2', random_state=None, solver='liblinear', tol=0.0001,\n",
              "          verbose=0, warm_start=False)"
            ]
          },
          "metadata": {
            "tags": []
          },
          "execution_count": 57
        }
      ]
    },
    {
      "metadata": {
        "id": "J2KTArK3IZu0",
        "colab_type": "code",
        "colab": {
          "base_uri": "https://localhost:8080/",
          "height": 17
        },
        "outputId": "ec75bfc5-13da-472a-d44f-295fd7bf0487"
      },
      "cell_type": "code",
      "source": [
        "prediction=model.predict(X_test)"
      ],
      "execution_count": 58,
      "outputs": []
    },
    {
      "metadata": {
        "id": "k9M-6t2UIcPR",
        "colab_type": "code",
        "colab": {
          "base_uri": "https://localhost:8080/",
          "height": 17
        },
        "outputId": "dba67316-528d-4048-d7ec-1a20509acbe0"
      },
      "cell_type": "code",
      "source": [
        "from sklearn.metrics import *"
      ],
      "execution_count": 59,
      "outputs": []
    },
    {
      "metadata": {
        "id": "6-nhjcANKbCO",
        "colab_type": "text"
      },
      "cell_type": "markdown",
      "source": [
        "## Classification Accuracy"
      ]
    },
    {
      "metadata": {
        "id": "yVZP6luXImCY",
        "colab_type": "code",
        "colab": {
          "base_uri": "https://localhost:8080/",
          "height": 34
        },
        "outputId": "4bc8094c-1b3c-464a-fb02-cd5568167671"
      },
      "cell_type": "code",
      "source": [
        "print(\"Classification accuracy :\",accuracy_score(y_test,prediction))\n"
      ],
      "execution_count": 60,
      "outputs": [
        {
          "output_type": "stream",
          "text": [
            "('Classification accuracy :', 0.9592592592592593)\n"
          ],
          "name": "stdout"
        }
      ]
    },
    {
      "metadata": {
        "id": "R0RpYSa5JNrs",
        "colab_type": "text"
      },
      "cell_type": "markdown",
      "source": [
        "## Log loss"
      ]
    },
    {
      "metadata": {
        "id": "mOai9JXMKiNG",
        "colab_type": "code",
        "colab": {
          "base_uri": "https://localhost:8080/",
          "height": 34
        },
        "outputId": "cb0979a9-335f-4528-ed4d-710680ff0c6a"
      },
      "cell_type": "code",
      "source": [
        "prediction1=model.predict_proba(X_test)\n",
        "print(\"Logarithmic loss :\",log_loss(y_test,prediction1))"
      ],
      "execution_count": 61,
      "outputs": [
        {
          "output_type": "stream",
          "text": [
            "('Logarithmic loss :', 0.1488899625977559)\n"
          ],
          "name": "stdout"
        }
      ]
    },
    {
      "metadata": {
        "id": "ywjk-ZcVKpiJ",
        "colab_type": "text"
      },
      "cell_type": "markdown",
      "source": [
        "## R2 Metrics"
      ]
    },
    {
      "metadata": {
        "id": "j5r2e8aVKyEq",
        "colab_type": "code",
        "colab": {
          "base_uri": "https://localhost:8080/",
          "height": 34
        },
        "outputId": "2d88df6a-7585-4e23-d30d-8989e102b693"
      },
      "cell_type": "code",
      "source": [
        "print(\"R2 metrics :\",r2_score(y_test,prediction))"
      ],
      "execution_count": 62,
      "outputs": [
        {
          "output_type": "stream",
          "text": [
            "('R2 metrics :', 0.868821231045642)\n"
          ],
          "name": "stdout"
        }
      ]
    },
    {
      "metadata": {
        "id": "guAta4gkMfpM",
        "colab_type": "text"
      },
      "cell_type": "markdown",
      "source": [
        "## MAE , MSE"
      ]
    },
    {
      "metadata": {
        "id": "TM1kfLgmMuuW",
        "colab_type": "code",
        "colab": {
          "base_uri": "https://localhost:8080/",
          "height": 51
        },
        "outputId": "c4677832-9128-4cee-ef52-ddaf24432521"
      },
      "cell_type": "code",
      "source": [
        "print(\"Mean absolute error :\",mean_absolute_error(y_test,prediction))\n",
        "print(\"Mean_squared_error :\",mean_squared_error(y_test,prediction))"
      ],
      "execution_count": 64,
      "outputs": [
        {
          "output_type": "stream",
          "text": [
            "('Mean absolute error :', 0.1962962962962963)\n",
            "('Mean_squared_error :', 1.1222222222222222)\n"
          ],
          "name": "stdout"
        }
      ]
    },
    {
      "metadata": {
        "id": "dqBRO5JOM9sQ",
        "colab_type": "text"
      },
      "cell_type": "markdown",
      "source": [
        "## Confusion metrics and classification Report"
      ]
    },
    {
      "metadata": {
        "id": "mFxGHaN5NNWA",
        "colab_type": "code",
        "colab": {
          "base_uri": "https://localhost:8080/",
          "height": 224
        },
        "outputId": "6b87896b-b74c-4ad9-a504-8a593a7e951c"
      },
      "cell_type": "code",
      "source": [
        "print(\"Confusion Matrix :\",confusion_matrix(y_test,prediction))\n",
        "print(\"Classification Report :\",classification_report(y_test,prediction))"
      ],
      "execution_count": 65,
      "outputs": [
        {
          "output_type": "stream",
          "text": [
            "('Confusion Matrix :', array([[59,  0,  0,  0,  0,  0,  0,  0,  0,  0],\n",
            "       [ 0, 49,  0,  0,  0,  0,  0,  0,  3,  1],\n",
            "       [ 0,  1, 59,  0,  0,  0,  0,  0,  0,  0],\n",
            "       [ 0,  0,  0, 50,  0,  0,  0,  0,  1,  0],\n",
            "       [ 0,  1,  0,  0, 54,  0,  0,  0,  1,  0],\n",
            "       [ 0,  0,  0,  0,  0, 43,  0,  0,  0,  2],\n",
            "       [ 0,  2,  0,  0,  0,  0, 49,  0,  1,  0],\n",
            "       [ 0,  0,  0,  0,  0,  0,  0, 51,  0,  1],\n",
            "       [ 0,  3,  0,  1,  0,  1,  0,  0, 51,  0],\n",
            "       [ 0,  0,  0,  2,  0,  0,  0,  0,  1, 53]]))\n",
            "('Classification Report :', u'             precision    recall  f1-score   support\\n\\n          0       1.00      1.00      1.00        59\\n          1       0.88      0.92      0.90        53\\n          2       1.00      0.98      0.99        60\\n          3       0.94      0.98      0.96        51\\n          4       1.00      0.96      0.98        56\\n          5       0.98      0.96      0.97        45\\n          6       1.00      0.94      0.97        52\\n          7       1.00      0.98      0.99        52\\n          8       0.88      0.91      0.89        56\\n          9       0.93      0.95      0.94        56\\n\\navg / total       0.96      0.96      0.96       540\\n')\n"
          ],
          "name": "stdout"
        }
      ]
    },
    {
      "metadata": {
        "id": "dzjpJMsONWco",
        "colab_type": "code",
        "colab": {}
      },
      "cell_type": "code",
      "source": [
        ""
      ],
      "execution_count": 0,
      "outputs": []
    }
  ]
}