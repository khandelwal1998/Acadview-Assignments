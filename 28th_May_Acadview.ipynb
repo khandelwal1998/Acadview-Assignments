{
  "nbformat": 4,
  "nbformat_minor": 0,
  "metadata": {
    "colab": {
      "name": "28th May Acadview.ipynb",
      "version": "0.3.2",
      "provenance": []
    }
  },
  "cells": [
    {
      "cell_type": "markdown",
      "metadata": {
        "id": "view-in-github",
        "colab_type": "text"
      },
      "source": [
        "[View in Colaboratory](https://colab.research.google.com/github/khandelwal1998/Acadview-Assignments/blob/master/28th_May_Acadview.ipynb)"
      ]
    },
    {
      "metadata": {
        "id": "Wj37DjYCdyTS",
        "colab_type": "code",
        "colab": {}
      },
      "cell_type": "code",
      "source": [
        ""
      ],
      "execution_count": 0,
      "outputs": []
    },
    {
      "metadata": {
        "id": "lkrTBTSD6FZa",
        "colab_type": "text"
      },
      "cell_type": "markdown",
      "source": [
        "Question 1:\n",
        "Slicing from front and back\n"
      ]
    },
    {
      "metadata": {
        "id": "pJ29NHiw6mb6",
        "colab_type": "code",
        "colab": {}
      },
      "cell_type": "code",
      "source": [
        "x = [1, 2, 3, 4, 5, 6, 7, 8, 9, 10, 11, 12, 13, 14, 15, 16]  "
      ],
      "execution_count": 0,
      "outputs": []
    },
    {
      "metadata": {
        "id": "_m_BfVFg6vph",
        "colab_type": "code",
        "colab": {
          "base_uri": "https://localhost:8080/",
          "height": 34
        },
        "outputId": "a07b6bde-ad2f-429f-d405-e9d42bf04114"
      },
      "cell_type": "code",
      "source": [
        "x[7:12]"
      ],
      "execution_count": 5,
      "outputs": [
        {
          "output_type": "execute_result",
          "data": {
            "text/plain": [
              "[8, 9, 10, 11, 12]"
            ]
          },
          "metadata": {
            "tags": []
          },
          "execution_count": 5
        }
      ]
    },
    {
      "metadata": {
        "id": "ISgO9DLb631r",
        "colab_type": "code",
        "colab": {
          "base_uri": "https://localhost:8080/",
          "height": 34
        },
        "outputId": "e20edad3-8f0d-4f60-a9c9-f7b5a3259d38"
      },
      "cell_type": "code",
      "source": [
        "x[-5:-10:-1]"
      ],
      "execution_count": 8,
      "outputs": [
        {
          "output_type": "execute_result",
          "data": {
            "text/plain": [
              "[12, 11, 10, 9, 8]"
            ]
          },
          "metadata": {
            "tags": []
          },
          "execution_count": 8
        }
      ]
    },
    {
      "metadata": {
        "id": "oFdlW0D-7DHW",
        "colab_type": "code",
        "colab": {}
      },
      "cell_type": "code",
      "source": [
        ""
      ],
      "execution_count": 0,
      "outputs": []
    },
    {
      "metadata": {
        "id": "DIHh-jDa7JpI",
        "colab_type": "text"
      },
      "cell_type": "markdown",
      "source": [
        "Question 2: Print even number from x using list slicing only\n",
        "\n"
      ]
    },
    {
      "metadata": {
        "id": "PIW076eM7biU",
        "colab_type": "code",
        "colab": {
          "base_uri": "https://localhost:8080/",
          "height": 34
        },
        "outputId": "46a54eb3-5525-449c-d464-db55701b4dc2"
      },
      "cell_type": "code",
      "source": [
        "x[1::2]"
      ],
      "execution_count": 10,
      "outputs": [
        {
          "output_type": "execute_result",
          "data": {
            "text/plain": [
              "[2, 4, 6, 8, 10, 12, 14, 16]"
            ]
          },
          "metadata": {
            "tags": []
          },
          "execution_count": 10
        }
      ]
    },
    {
      "metadata": {
        "id": "rzylVDGo7g3w",
        "colab_type": "code",
        "colab": {}
      },
      "cell_type": "code",
      "source": [
        ""
      ],
      "execution_count": 0,
      "outputs": []
    },
    {
      "metadata": {
        "id": "_zZchUVV7j_k",
        "colab_type": "text"
      },
      "cell_type": "markdown",
      "source": [
        "Question 3:Print every 4th number using list slicing only."
      ]
    },
    {
      "metadata": {
        "id": "OWqrbM3R7oEq",
        "colab_type": "code",
        "colab": {}
      },
      "cell_type": "code",
      "source": [
        ""
      ],
      "execution_count": 0,
      "outputs": []
    },
    {
      "metadata": {
        "id": "gw5I4ZaK7m6j",
        "colab_type": "code",
        "colab": {
          "base_uri": "https://localhost:8080/",
          "height": 34
        },
        "outputId": "60f43c92-102e-44e4-96e2-baf4ec6ceb28"
      },
      "cell_type": "code",
      "source": [
        "x[0::4]"
      ],
      "execution_count": 12,
      "outputs": [
        {
          "output_type": "execute_result",
          "data": {
            "text/plain": [
              "[1, 5, 9, 13]"
            ]
          },
          "metadata": {
            "tags": []
          },
          "execution_count": 12
        }
      ]
    }
  ]
}