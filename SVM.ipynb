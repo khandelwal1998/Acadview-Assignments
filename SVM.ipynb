{
  "nbformat": 4,
  "nbformat_minor": 0,
  "metadata": {
    "colab": {
      "name": "Untitled12.ipynb",
      "version": "0.3.2",
      "provenance": [],
      "collapsed_sections": [],
      "include_colab_link": true
    }
  },
  "cells": [
    {
      "cell_type": "markdown",
      "metadata": {
        "id": "view-in-github",
        "colab_type": "text"
      },
      "source": [
        "[View in Colaboratory](https://colab.research.google.com/github/khandelwal1998/Acadview-Assignments/blob/master/SVM.ipynb)"
      ]
    },
    {
      "metadata": {
        "id": "mXdVSKzMyTgB",
        "colab_type": "code",
        "colab": {}
      },
      "cell_type": "code",
      "source": [
        "import pandas as pd\n",
        "from sklearn.datasets import load_digits"
      ],
      "execution_count": 0,
      "outputs": []
    },
    {
      "metadata": {
        "id": "0th3TK1Ay6sq",
        "colab_type": "code",
        "colab": {}
      },
      "cell_type": "code",
      "source": [
        "mnist=load_digits()"
      ],
      "execution_count": 0,
      "outputs": []
    },
    {
      "metadata": {
        "id": "7jpmSicay9Xf",
        "colab_type": "code",
        "colab": {}
      },
      "cell_type": "code",
      "source": [
        "x=mnist.data\n",
        "y=mnist.target"
      ],
      "execution_count": 0,
      "outputs": []
    },
    {
      "metadata": {
        "id": "SG9PKN6qzj-_",
        "colab_type": "code",
        "colab": {}
      },
      "cell_type": "code",
      "source": [
        "from sklearn.model_selection import train_test_split"
      ],
      "execution_count": 0,
      "outputs": []
    },
    {
      "metadata": {
        "id": "Zd-GK-Xizx5X",
        "colab_type": "code",
        "colab": {}
      },
      "cell_type": "code",
      "source": [
        "x_train,x_test,y_train,y_test=train_test_split(x,y,test_size=0.3)"
      ],
      "execution_count": 0,
      "outputs": []
    },
    {
      "metadata": {
        "id": "a7VT_m75z6Wa",
        "colab_type": "code",
        "colab": {}
      },
      "cell_type": "code",
      "source": [
        "from sklearn.svm import SVC"
      ],
      "execution_count": 0,
      "outputs": []
    },
    {
      "metadata": {
        "id": "gvWTWJEdz_tD",
        "colab_type": "code",
        "colab": {}
      },
      "cell_type": "code",
      "source": [
        "model1=SVC(kernel=\"linear\")\n",
        "model2=SVC(kernel=\"rbf\")\n",
        "model3=SVC(kernel=\"poly\",degree=8)\n",
        "model4=SVC(kernel=\"sigmoid\")\n",
        "\n"
      ],
      "execution_count": 0,
      "outputs": []
    },
    {
      "metadata": {
        "id": "-mw8uxZk0EJz",
        "colab_type": "code",
        "colab": {
          "base_uri": "https://localhost:8080/",
          "height": 85
        },
        "outputId": "a03ae2b7-4a56-43ee-b2ce-8aebf1de9657"
      },
      "cell_type": "code",
      "source": [
        "model1.fit(x_train,y_train)\n",
        "model2.fit(x_train,y_train)\n",
        "model3.fit(x_train,y_train)\n",
        "model4.fit(x_train,y_train)\n",
        "\n"
      ],
      "execution_count": 24,
      "outputs": [
        {
          "output_type": "execute_result",
          "data": {
            "text/plain": [
              "SVC(C=1.0, cache_size=200, class_weight=None, coef0=0.0,\n",
              "  decision_function_shape='ovr', degree=3, gamma='auto', kernel='sigmoid',\n",
              "  max_iter=-1, probability=False, random_state=None, shrinking=True,\n",
              "  tol=0.001, verbose=False)"
            ]
          },
          "metadata": {
            "tags": []
          },
          "execution_count": 24
        }
      ]
    },
    {
      "metadata": {
        "id": "9DixHfmS02TR",
        "colab_type": "code",
        "colab": {}
      },
      "cell_type": "code",
      "source": [
        "predict1=model1.predict(x_test)\n",
        "predict2=model2.predict(x_test)\n",
        "predict3=model3.predict(x_test)\n",
        "predict4=model4.predict(x_test)"
      ],
      "execution_count": 0,
      "outputs": []
    },
    {
      "metadata": {
        "id": "B-76QxIM1VH5",
        "colab_type": "code",
        "colab": {}
      },
      "cell_type": "code",
      "source": [
        "from sklearn.metrics import classification_report,confusion_matrix,accuracy_score"
      ],
      "execution_count": 0,
      "outputs": []
    },
    {
      "metadata": {
        "id": "t_2N7iQn1d0E",
        "colab_type": "text"
      },
      "cell_type": "markdown",
      "source": [
        "## For linear kernal"
      ]
    },
    {
      "metadata": {
        "id": "_e0xnDIX1hw7",
        "colab_type": "code",
        "colab": {
          "base_uri": "https://localhost:8080/",
          "height": 442
        },
        "outputId": "42022a89-370d-49c0-ef58-737e5e9b5217"
      },
      "cell_type": "code",
      "source": [
        "print(classification_report(y_test,predict1))\n",
        "print(confusion_matrix(y_test,predict1))"
      ],
      "execution_count": 29,
      "outputs": [
        {
          "output_type": "stream",
          "text": [
            "             precision    recall  f1-score   support\n",
            "\n",
            "          0       1.00      1.00      1.00        50\n",
            "          1       0.91      1.00      0.95        60\n",
            "          2       1.00      1.00      1.00        57\n",
            "          3       0.98      0.96      0.97        55\n",
            "          4       1.00      1.00      1.00        48\n",
            "          5       0.98      1.00      0.99        55\n",
            "          6       1.00      1.00      1.00        58\n",
            "          7       0.96      1.00      0.98        55\n",
            "          8       0.98      0.85      0.91        54\n",
            "          9       0.96      0.94      0.95        48\n",
            "\n",
            "avg / total       0.98      0.98      0.98       540\n",
            "\n",
            "[[50  0  0  0  0  0  0  0  0  0]\n",
            " [ 0 60  0  0  0  0  0  0  0  0]\n",
            " [ 0  0 57  0  0  0  0  0  0  0]\n",
            " [ 0  0  0 53  0  0  0  1  0  1]\n",
            " [ 0  0  0  0 48  0  0  0  0  0]\n",
            " [ 0  0  0  0  0 55  0  0  0  0]\n",
            " [ 0  0  0  0  0  0 58  0  0  0]\n",
            " [ 0  0  0  0  0  0  0 55  0  0]\n",
            " [ 0  6  0  0  0  0  0  1 46  1]\n",
            " [ 0  0  0  1  0  1  0  0  1 45]]\n"
          ],
          "name": "stdout"
        }
      ]
    },
    {
      "metadata": {
        "id": "xyENoI7-1pRI",
        "colab_type": "text"
      },
      "cell_type": "markdown",
      "source": [
        "## For gaussian kernel"
      ]
    },
    {
      "metadata": {
        "id": "DebfFc1M2mSo",
        "colab_type": "code",
        "colab": {
          "base_uri": "https://localhost:8080/",
          "height": 442
        },
        "outputId": "723d125e-b43d-44c9-9926-b70b5b1b6b6a"
      },
      "cell_type": "code",
      "source": [
        "print(classification_report(y_test,predict2))\n",
        "print(confusion_matrix(y_test,predict2))"
      ],
      "execution_count": 30,
      "outputs": [
        {
          "output_type": "stream",
          "text": [
            "             precision    recall  f1-score   support\n",
            "\n",
            "          0       1.00      0.54      0.70        50\n",
            "          1       1.00      0.30      0.46        60\n",
            "          2       1.00      0.23      0.37        57\n",
            "          3       1.00      0.45      0.62        55\n",
            "          4       1.00      0.65      0.78        48\n",
            "          5       1.00      0.20      0.33        55\n",
            "          6       1.00      0.53      0.70        58\n",
            "          7       1.00      0.33      0.49        55\n",
            "          8       1.00      0.04      0.07        54\n",
            "          9       0.13      1.00      0.23        48\n",
            "\n",
            "avg / total       0.92      0.41      0.48       540\n",
            "\n",
            "[[27  0  0  0  0  0  0  0  0 23]\n",
            " [ 0 18  0  0  0  0  0  0  0 42]\n",
            " [ 0  0 13  0  0  0  0  0  0 44]\n",
            " [ 0  0  0 25  0  0  0  0  0 30]\n",
            " [ 0  0  0  0 31  0  0  0  0 17]\n",
            " [ 0  0  0  0  0 11  0  0  0 44]\n",
            " [ 0  0  0  0  0  0 31  0  0 27]\n",
            " [ 0  0  0  0  0  0  0 18  0 37]\n",
            " [ 0  0  0  0  0  0  0  0  2 52]\n",
            " [ 0  0  0  0  0  0  0  0  0 48]]\n"
          ],
          "name": "stdout"
        }
      ]
    },
    {
      "metadata": {
        "id": "Ga5ATp8g2vXz",
        "colab_type": "text"
      },
      "cell_type": "markdown",
      "source": [
        "## For polynomial kernel"
      ]
    },
    {
      "metadata": {
        "id": "L0A8mEwD21E3",
        "colab_type": "code",
        "colab": {
          "base_uri": "https://localhost:8080/",
          "height": 391
        },
        "outputId": "a2868d6d-86a9-4486-ed04-bceb0d36170d"
      },
      "cell_type": "code",
      "source": [
        "for i in range(0,11):\n",
        "  model=SVC(kernel='poly',degree=i)\n",
        "  model.fit(x_train,y_train)\n",
        "  p=model.predict(x_test)\n",
        "  print(\"For degree : \",i)\n",
        "  print(accuracy_score(y_test,p))\n"
      ],
      "execution_count": 53,
      "outputs": [
        {
          "output_type": "stream",
          "text": [
            "('For degree : ', 0)\n",
            "0.08888888888888889\n",
            "('For degree : ', 1)\n",
            "0.975925925925926\n",
            "('For degree : ', 2)\n",
            "0.9925925925925926\n",
            "('For degree : ', 3)\n",
            "0.9907407407407407\n",
            "('For degree : ', 4)\n",
            "0.9833333333333333\n",
            "('For degree : ', 5)\n",
            "0.9796296296296296\n",
            "('For degree : ', 6)\n",
            "0.9777777777777777\n",
            "('For degree : ', 7)\n",
            "0.975925925925926\n",
            "('For degree : ', 8)\n",
            "0.9740740740740741\n",
            "('For degree : ', 9)\n",
            "0.9703703703703703\n",
            "('For degree : ', 10)\n",
            "0.9666666666666667\n"
          ],
          "name": "stdout"
        }
      ]
    },
    {
      "metadata": {
        "id": "Q0zvmp7246y7",
        "colab_type": "code",
        "colab": {
          "base_uri": "https://localhost:8080/",
          "height": 442
        },
        "outputId": "4771cb0f-0399-403d-eec7-27f458e54798"
      },
      "cell_type": "code",
      "source": [
        "model=SVC(kernel='poly',degree=2)\n",
        "model.fit(x_train,y_train)\n",
        "p=model.predict(x_test)\n",
        "print(classification_report(y_test,p))\n",
        "print(confusion_matrix(y_test,p))"
      ],
      "execution_count": 54,
      "outputs": [
        {
          "output_type": "stream",
          "text": [
            "             precision    recall  f1-score   support\n",
            "\n",
            "          0       1.00      1.00      1.00        50\n",
            "          1       0.97      1.00      0.98        60\n",
            "          2       1.00      1.00      1.00        57\n",
            "          3       0.98      1.00      0.99        55\n",
            "          4       1.00      1.00      1.00        48\n",
            "          5       0.98      1.00      0.99        55\n",
            "          6       1.00      1.00      1.00        58\n",
            "          7       1.00      1.00      1.00        55\n",
            "          8       1.00      0.96      0.98        54\n",
            "          9       1.00      0.96      0.98        48\n",
            "\n",
            "avg / total       0.99      0.99      0.99       540\n",
            "\n",
            "[[50  0  0  0  0  0  0  0  0  0]\n",
            " [ 0 60  0  0  0  0  0  0  0  0]\n",
            " [ 0  0 57  0  0  0  0  0  0  0]\n",
            " [ 0  0  0 55  0  0  0  0  0  0]\n",
            " [ 0  0  0  0 48  0  0  0  0  0]\n",
            " [ 0  0  0  0  0 55  0  0  0  0]\n",
            " [ 0  0  0  0  0  0 58  0  0  0]\n",
            " [ 0  0  0  0  0  0  0 55  0  0]\n",
            " [ 0  2  0  0  0  0  0  0 52  0]\n",
            " [ 0  0  0  1  0  1  0  0  0 46]]\n"
          ],
          "name": "stdout"
        }
      ]
    },
    {
      "metadata": {
        "id": "U8VEP9DV290v",
        "colab_type": "text"
      },
      "cell_type": "markdown",
      "source": [
        "## For sigmoid function"
      ]
    },
    {
      "metadata": {
        "id": "VSb3FBXO42qI",
        "colab_type": "code",
        "colab": {
          "base_uri": "https://localhost:8080/",
          "height": 496
        },
        "outputId": "3b8e1618-700e-4d76-8135-2c910e0a8092"
      },
      "cell_type": "code",
      "source": [
        "print(classification_report(y_test,predict4))\n",
        "print(confusion_matrix(y_test,predict4))"
      ],
      "execution_count": 55,
      "outputs": [
        {
          "output_type": "stream",
          "text": [
            "             precision    recall  f1-score   support\n",
            "\n",
            "          0       0.00      0.00      0.00        50\n",
            "          1       0.00      0.00      0.00        60\n",
            "          2       0.00      0.00      0.00        57\n",
            "          3       0.00      0.00      0.00        55\n",
            "          4       0.09      1.00      0.16        48\n",
            "          5       0.00      0.00      0.00        55\n",
            "          6       0.00      0.00      0.00        58\n",
            "          7       0.00      0.00      0.00        55\n",
            "          8       0.00      0.00      0.00        54\n",
            "          9       0.00      0.00      0.00        48\n",
            "\n",
            "avg / total       0.01      0.09      0.01       540\n",
            "\n",
            "[[ 0  0  0  0 50  0  0  0  0  0]\n",
            " [ 0  0  0  0 60  0  0  0  0  0]\n",
            " [ 0  0  0  0 57  0  0  0  0  0]\n",
            " [ 0  0  0  0 55  0  0  0  0  0]\n",
            " [ 0  0  0  0 48  0  0  0  0  0]\n",
            " [ 0  0  0  0 55  0  0  0  0  0]\n",
            " [ 0  0  0  0 58  0  0  0  0  0]\n",
            " [ 0  0  0  0 55  0  0  0  0  0]\n",
            " [ 0  0  0  0 54  0  0  0  0  0]\n",
            " [ 0  0  0  0 48  0  0  0  0  0]]\n"
          ],
          "name": "stdout"
        },
        {
          "output_type": "stream",
          "text": [
            "/usr/local/lib/python2.7/dist-packages/sklearn/metrics/classification.py:1135: UndefinedMetricWarning: Precision and F-score are ill-defined and being set to 0.0 in labels with no predicted samples.\n",
            "  'precision', 'predicted', average, warn_for)\n"
          ],
          "name": "stderr"
        }
      ]
    },
    {
      "metadata": {
        "id": "_2pS014Y5Mq5",
        "colab_type": "text"
      },
      "cell_type": "markdown",
      "source": [
        ""
      ]
    }
  ]
}