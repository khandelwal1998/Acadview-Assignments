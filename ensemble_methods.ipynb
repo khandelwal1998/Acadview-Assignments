{
  "nbformat": 4,
  "nbformat_minor": 0,
  "metadata": {
    "colab": {
      "name": "Ensembles.ipynb",
      "version": "0.3.2",
      "provenance": [],
      "include_colab_link": true
    },
    "kernelspec": {
      "name": "python3",
      "display_name": "Python 3"
    }
  },
  "cells": [
    {
      "cell_type": "markdown",
      "metadata": {
        "id": "view-in-github",
        "colab_type": "text"
      },
      "source": [
        "[View in Colaboratory](https://colab.research.google.com/github/khandelwal1998/Acadview-Assignments/blob/master/ensemble_methods.ipynb)"
      ]
    },
    {
      "metadata": {
        "id": "kWAMG-Nw6Bve",
        "colab_type": "code",
        "colab": {
          "base_uri": "https://localhost:8080/",
          "height": 17
        },
        "outputId": "c2d5a5fc-ee9c-45db-d6d6-cae026dbb9f4"
      },
      "cell_type": "code",
      "source": [
        "import pandas as pd\n"
      ],
      "execution_count": 60,
      "outputs": []
    },
    {
      "metadata": {
        "id": "W21G0Peh6Vu-",
        "colab_type": "code",
        "colab": {
          "base_uri": "https://localhost:8080/",
          "height": 17
        },
        "outputId": "252833ee-1795-4767-cad4-eec6ce6e3b77"
      },
      "cell_type": "code",
      "source": [
        "from sklearn.datasets import load_wine"
      ],
      "execution_count": 61,
      "outputs": []
    },
    {
      "metadata": {
        "id": "XusBqnfc6fmE",
        "colab_type": "code",
        "colab": {
          "base_uri": "https://localhost:8080/",
          "height": 17
        },
        "outputId": "3a8cc207-4d86-4335-d5a4-39dff3e0b15f"
      },
      "cell_type": "code",
      "source": [
        "df = load_wine()"
      ],
      "execution_count": 62,
      "outputs": []
    },
    {
      "metadata": {
        "id": "ZK6zOvx36l1c",
        "colab_type": "code",
        "colab": {
          "base_uri": "https://localhost:8080/",
          "height": 17
        },
        "outputId": "8bb9612f-8092-44d9-c8bb-03e407a10aa1"
      },
      "cell_type": "code",
      "source": [
        ""
      ],
      "execution_count": 62,
      "outputs": []
    },
    {
      "metadata": {
        "id": "cDFyL431L7d9",
        "colab_type": "text"
      },
      "cell_type": "markdown",
      "source": [
        "### Splitting into features and target"
      ]
    },
    {
      "metadata": {
        "id": "BruNIW6o6rPW",
        "colab_type": "code",
        "colab": {
          "base_uri": "https://localhost:8080/",
          "height": 17
        },
        "outputId": "62cf26e1-cc65-466d-a0c3-fbeaef320ea9"
      },
      "cell_type": "code",
      "source": [
        "x = df.data\n",
        "y = df.target"
      ],
      "execution_count": 63,
      "outputs": []
    },
    {
      "metadata": {
        "id": "TUzPqELUMAWX",
        "colab_type": "text"
      },
      "cell_type": "markdown",
      "source": [
        "### Standardizing"
      ]
    },
    {
      "metadata": {
        "id": "22wEMRz77JmR",
        "colab_type": "code",
        "colab": {
          "base_uri": "https://localhost:8080/",
          "height": 17
        },
        "outputId": "e5195112-52e4-484f-aa76-f021eadf9270"
      },
      "cell_type": "code",
      "source": [
        "from sklearn.preprocessing import StandardScaler"
      ],
      "execution_count": 64,
      "outputs": []
    },
    {
      "metadata": {
        "id": "gZ9VT4Fs7xow",
        "colab_type": "code",
        "colab": {
          "base_uri": "https://localhost:8080/",
          "height": 17
        },
        "outputId": "4b00f838-c740-44fe-e668-2c6ad94b6242"
      },
      "cell_type": "code",
      "source": [
        "scaler = StandardScaler()"
      ],
      "execution_count": 65,
      "outputs": []
    },
    {
      "metadata": {
        "id": "u5K570_P9qdX",
        "colab_type": "code",
        "colab": {
          "base_uri": "https://localhost:8080/",
          "height": 34
        },
        "outputId": "c89991b8-5da2-4656-f22b-f56d161c0837"
      },
      "cell_type": "code",
      "source": [
        "scaler.fit(x)"
      ],
      "execution_count": 66,
      "outputs": [
        {
          "output_type": "execute_result",
          "data": {
            "text/plain": [
              "StandardScaler(copy=True, with_mean=True, with_std=True)"
            ]
          },
          "metadata": {
            "tags": []
          },
          "execution_count": 66
        }
      ]
    },
    {
      "metadata": {
        "id": "F5L4Q5kY9tRl",
        "colab_type": "code",
        "colab": {
          "base_uri": "https://localhost:8080/",
          "height": 17
        },
        "outputId": "21443fbc-6cdb-4e20-c47a-a2e2e17a79b0"
      },
      "cell_type": "code",
      "source": [
        "x = scaler.transform(x)"
      ],
      "execution_count": 67,
      "outputs": []
    },
    {
      "metadata": {
        "id": "2HZ_hlJi762i",
        "colab_type": "code",
        "colab": {
          "base_uri": "https://localhost:8080/",
          "height": 17
        },
        "outputId": "aee5f214-bc62-4177-fdd4-5ddd95d6b023"
      },
      "cell_type": "code",
      "source": [
        "from sklearn.model_selection import train_test_split"
      ],
      "execution_count": 68,
      "outputs": []
    },
    {
      "metadata": {
        "id": "v6poV4zU8B98",
        "colab_type": "code",
        "colab": {
          "base_uri": "https://localhost:8080/",
          "height": 17
        },
        "outputId": "2787f02f-0cff-4dee-b61d-baf954d8644d"
      },
      "cell_type": "code",
      "source": [
        "x_train,x_test,y_train,y_test=train_test_split(x, y, test_size=0.30)"
      ],
      "execution_count": 69,
      "outputs": []
    },
    {
      "metadata": {
        "id": "0WIZI60kMHuj",
        "colab_type": "text"
      },
      "cell_type": "markdown",
      "source": [
        "\n",
        "\n",
        "### Bagging Tree Classifier"
      ]
    },
    {
      "metadata": {
        "id": "2vrUrkFM97QA",
        "colab_type": "code",
        "colab": {
          "base_uri": "https://localhost:8080/",
          "height": 17
        },
        "outputId": "950f99c8-ad7e-4ea7-899d-187fb4f5e906"
      },
      "cell_type": "code",
      "source": [
        "from sklearn.ensemble import BaggingClassifier\n",
        "from sklearn.metrics import accuracy_score"
      ],
      "execution_count": 70,
      "outputs": []
    },
    {
      "metadata": {
        "id": "NRphr3fF-A3S",
        "colab_type": "code",
        "colab": {
          "base_uri": "https://localhost:8080/",
          "height": 17
        },
        "outputId": "710f1246-9ec6-4073-bbcf-8c38552d2333"
      },
      "cell_type": "code",
      "source": [
        "bagging = BaggingClassifier()"
      ],
      "execution_count": 71,
      "outputs": []
    },
    {
      "metadata": {
        "id": "U5Y2HtNc-GMZ",
        "colab_type": "code",
        "colab": {
          "base_uri": "https://localhost:8080/",
          "height": 85
        },
        "outputId": "e7b0cf77-47a2-44e1-f535-466bd530bdef"
      },
      "cell_type": "code",
      "source": [
        "bagging.fit(x_train, y_train)"
      ],
      "execution_count": 72,
      "outputs": [
        {
          "output_type": "execute_result",
          "data": {
            "text/plain": [
              "BaggingClassifier(base_estimator=None, bootstrap=True,\n",
              "         bootstrap_features=False, max_features=1.0, max_samples=1.0,\n",
              "         n_estimators=10, n_jobs=1, oob_score=False, random_state=None,\n",
              "         verbose=0, warm_start=False)"
            ]
          },
          "metadata": {
            "tags": []
          },
          "execution_count": 72
        }
      ]
    },
    {
      "metadata": {
        "id": "Ri-1hJtk-Igf",
        "colab_type": "code",
        "colab": {
          "base_uri": "https://localhost:8080/",
          "height": 17
        },
        "outputId": "09efaafd-84ac-4bfc-d1cc-eeee53e4c4b7"
      },
      "cell_type": "code",
      "source": [
        "predBagging=bagging.predict(x_test)"
      ],
      "execution_count": 73,
      "outputs": []
    },
    {
      "metadata": {
        "id": "ohosLwq7-dWX",
        "colab_type": "code",
        "colab": {
          "base_uri": "https://localhost:8080/",
          "height": 34
        },
        "outputId": "da99bfee-44a5-4140-b32e-153904f9eabd"
      },
      "cell_type": "code",
      "source": [
        "print(accuracy_score(y_test, predBagging))"
      ],
      "execution_count": 74,
      "outputs": [
        {
          "output_type": "stream",
          "text": [
            "0.9074074074074074\n"
          ],
          "name": "stdout"
        }
      ]
    },
    {
      "metadata": {
        "id": "stnHmIQsMVLn",
        "colab_type": "text"
      },
      "cell_type": "markdown",
      "source": [
        "### Random Forest Classifier"
      ]
    },
    {
      "metadata": {
        "id": "vSl89wsc-grE",
        "colab_type": "code",
        "colab": {
          "base_uri": "https://localhost:8080/",
          "height": 17
        },
        "outputId": "7903fff0-c9f1-4540-c969-77097d2ed2e0"
      },
      "cell_type": "code",
      "source": [
        "from sklearn.ensemble import RandomForestClassifier"
      ],
      "execution_count": 75,
      "outputs": []
    },
    {
      "metadata": {
        "id": "vTnqIDfX-sVV",
        "colab_type": "code",
        "colab": {
          "base_uri": "https://localhost:8080/",
          "height": 17
        },
        "outputId": "b1874448-241c-46d6-a681-3d8f7943849a"
      },
      "cell_type": "code",
      "source": [
        "random = RandomForestClassifier()"
      ],
      "execution_count": 76,
      "outputs": []
    },
    {
      "metadata": {
        "id": "QIQ8Baxs-u-5",
        "colab_type": "code",
        "colab": {
          "base_uri": "https://localhost:8080/",
          "height": 136
        },
        "outputId": "3082fee5-55a8-4df5-c13f-03d1de752b8c"
      },
      "cell_type": "code",
      "source": [
        "random.fit(x_train, y_train)"
      ],
      "execution_count": 77,
      "outputs": [
        {
          "output_type": "execute_result",
          "data": {
            "text/plain": [
              "RandomForestClassifier(bootstrap=True, class_weight=None, criterion='gini',\n",
              "            max_depth=None, max_features='auto', max_leaf_nodes=None,\n",
              "            min_impurity_decrease=0.0, min_impurity_split=None,\n",
              "            min_samples_leaf=1, min_samples_split=2,\n",
              "            min_weight_fraction_leaf=0.0, n_estimators=10, n_jobs=1,\n",
              "            oob_score=False, random_state=None, verbose=0,\n",
              "            warm_start=False)"
            ]
          },
          "metadata": {
            "tags": []
          },
          "execution_count": 77
        }
      ]
    },
    {
      "metadata": {
        "id": "mkyf7ogn-yHy",
        "colab_type": "code",
        "colab": {
          "base_uri": "https://localhost:8080/",
          "height": 17
        },
        "outputId": "d895b09b-a2d9-41d1-d1dc-00e7c579e8ce"
      },
      "cell_type": "code",
      "source": [
        "predRandom = random.predict(x_test)"
      ],
      "execution_count": 78,
      "outputs": []
    },
    {
      "metadata": {
        "id": "951D29lD-4hc",
        "colab_type": "code",
        "colab": {
          "base_uri": "https://localhost:8080/",
          "height": 34
        },
        "outputId": "d4fb0b8a-36fe-493a-a163-2b7261a93d62"
      },
      "cell_type": "code",
      "source": [
        "print(accuracy_score(y_test, predRandom))"
      ],
      "execution_count": 79,
      "outputs": [
        {
          "output_type": "stream",
          "text": [
            "0.9259259259259259\n"
          ],
          "name": "stdout"
        }
      ]
    },
    {
      "metadata": {
        "id": "Xc2ECChMMY6H",
        "colab_type": "text"
      },
      "cell_type": "markdown",
      "source": [
        "## Voting ensemble"
      ]
    },
    {
      "metadata": {
        "id": "JnqBuGR3-8V-",
        "colab_type": "code",
        "colab": {
          "base_uri": "https://localhost:8080/",
          "height": 17
        },
        "outputId": "09de7dfd-38aa-43de-f05b-6edde0dc3fd0"
      },
      "cell_type": "code",
      "source": [
        "from sklearn.ensemble import VotingClassifier"
      ],
      "execution_count": 80,
      "outputs": []
    },
    {
      "metadata": {
        "id": "Z7sKyojoE-WE",
        "colab_type": "code",
        "colab": {
          "base_uri": "https://localhost:8080/",
          "height": 17
        },
        "outputId": "284335aa-dba2-4812-c7f5-1b8be62decb7"
      },
      "cell_type": "code",
      "source": [
        "from sklearn.tree import DecisionTreeClassifier\n",
        "from sklearn.linear_model import LogisticRegression\n",
        "from sklearn.svm import SVC"
      ],
      "execution_count": 81,
      "outputs": []
    },
    {
      "metadata": {
        "id": "wA7vG_BjFDG9",
        "colab_type": "code",
        "colab": {
          "base_uri": "https://localhost:8080/",
          "height": 17
        },
        "outputId": "1c1aa6d2-65d7-4ad4-aa3b-e4fffe198d48"
      },
      "cell_type": "code",
      "source": [
        "voting = VotingClassifier([('tree', DecisionTreeClassifier()), ('log', LogisticRegression()), ('svc', SVC())])"
      ],
      "execution_count": 82,
      "outputs": []
    },
    {
      "metadata": {
        "id": "9QEJVDhLFukF",
        "colab_type": "code",
        "colab": {
          "base_uri": "https://localhost:8080/",
          "height": 153
        },
        "outputId": "4ce2ce5b-0f68-4a32-b071-593db3cdb6a1"
      },
      "cell_type": "code",
      "source": [
        "voting.fit(x_train,y_train)"
      ],
      "execution_count": 83,
      "outputs": [
        {
          "output_type": "execute_result",
          "data": {
            "text/plain": [
              "VotingClassifier(estimators=[('tree', DecisionTreeClassifier(class_weight=None, criterion='gini', max_depth=None,\n",
              "            max_features=None, max_leaf_nodes=None,\n",
              "            min_impurity_decrease=0.0, min_impurity_split=None,\n",
              "            min_samples_leaf=1, min_samples_split=2,\n",
              "            min_weight_fraction_le...,\n",
              "  max_iter=-1, probability=False, random_state=None, shrinking=True,\n",
              "  tol=0.001, verbose=False))],\n",
              "         flatten_transform=None, n_jobs=1, voting='hard', weights=None)"
            ]
          },
          "metadata": {
            "tags": []
          },
          "execution_count": 83
        }
      ]
    },
    {
      "metadata": {
        "id": "3UetPOp7Fzb0",
        "colab_type": "code",
        "colab": {
          "base_uri": "https://localhost:8080/",
          "height": 71
        },
        "outputId": "d7e52cd9-03e0-4087-c64a-1b29ef29ca7c"
      },
      "cell_type": "code",
      "source": [
        "predVoting = voting.predict(x_test)"
      ],
      "execution_count": 84,
      "outputs": [
        {
          "output_type": "stream",
          "text": [
            "/usr/local/lib/python3.6/dist-packages/sklearn/preprocessing/label.py:151: DeprecationWarning: The truth value of an empty array is ambiguous. Returning False, but in future this will result in an error. Use `array.size > 0` to check that an array is not empty.\n",
            "  if diff:\n"
          ],
          "name": "stderr"
        }
      ]
    },
    {
      "metadata": {
        "id": "P415GNmaF4_D",
        "colab_type": "code",
        "colab": {
          "base_uri": "https://localhost:8080/",
          "height": 34
        },
        "outputId": "93b144f0-7377-4dda-d3ab-01fbcd3ef79f"
      },
      "cell_type": "code",
      "source": [
        "print(accuracy_score(y_test, predVoting))"
      ],
      "execution_count": 85,
      "outputs": [
        {
          "output_type": "stream",
          "text": [
            "0.9444444444444444\n"
          ],
          "name": "stdout"
        }
      ]
    },
    {
      "metadata": {
        "id": "2QEkV0NVMcnK",
        "colab_type": "text"
      },
      "cell_type": "markdown",
      "source": [
        "### Gradient Boosting"
      ]
    },
    {
      "metadata": {
        "id": "r3quKz_pF__S",
        "colab_type": "code",
        "colab": {
          "base_uri": "https://localhost:8080/",
          "height": 17
        },
        "outputId": "c948f886-185f-488b-d445-6c0061e7cf42"
      },
      "cell_type": "code",
      "source": [
        "from sklearn.ensemble import GradientBoostingClassifier"
      ],
      "execution_count": 86,
      "outputs": []
    },
    {
      "metadata": {
        "id": "_ptgnczvGlTI",
        "colab_type": "code",
        "colab": {
          "base_uri": "https://localhost:8080/",
          "height": 17
        },
        "outputId": "de70b11b-c1b1-4cb4-bd8c-8878ebec623c"
      },
      "cell_type": "code",
      "source": [
        "GradientBoosting = GradientBoostingClassifier()"
      ],
      "execution_count": 87,
      "outputs": []
    },
    {
      "metadata": {
        "id": "TKiOKBl1GwNn",
        "colab_type": "code",
        "colab": {
          "base_uri": "https://localhost:8080/",
          "height": 153
        },
        "outputId": "a13f1d77-7b66-4cd3-8f0d-45144b83eb09"
      },
      "cell_type": "code",
      "source": [
        "GradientBoosting.fit(x_train, y_train)"
      ],
      "execution_count": 88,
      "outputs": [
        {
          "output_type": "execute_result",
          "data": {
            "text/plain": [
              "GradientBoostingClassifier(criterion='friedman_mse', init=None,\n",
              "              learning_rate=0.1, loss='deviance', max_depth=3,\n",
              "              max_features=None, max_leaf_nodes=None,\n",
              "              min_impurity_decrease=0.0, min_impurity_split=None,\n",
              "              min_samples_leaf=1, min_samples_split=2,\n",
              "              min_weight_fraction_leaf=0.0, n_estimators=100,\n",
              "              presort='auto', random_state=None, subsample=1.0, verbose=0,\n",
              "              warm_start=False)"
            ]
          },
          "metadata": {
            "tags": []
          },
          "execution_count": 88
        }
      ]
    },
    {
      "metadata": {
        "id": "eSRNwzt6Gy0P",
        "colab_type": "code",
        "colab": {
          "base_uri": "https://localhost:8080/",
          "height": 17
        },
        "outputId": "2b521e39-5859-494d-f599-e4b50e38f30b"
      },
      "cell_type": "code",
      "source": [
        "predGradient = GradientBoosting.predict(x_test)"
      ],
      "execution_count": 89,
      "outputs": []
    },
    {
      "metadata": {
        "id": "M3kgNTxWG_6h",
        "colab_type": "code",
        "colab": {
          "base_uri": "https://localhost:8080/",
          "height": 34
        },
        "outputId": "5896827c-4a76-484c-c4c0-489b29f729a7"
      },
      "cell_type": "code",
      "source": [
        "print(accuracy_score(y_test, predGradient))"
      ],
      "execution_count": 90,
      "outputs": [
        {
          "output_type": "stream",
          "text": [
            "0.9444444444444444\n"
          ],
          "name": "stdout"
        }
      ]
    },
    {
      "metadata": {
        "id": "ixhO23XWM3Bd",
        "colab_type": "code",
        "colab": {
          "base_uri": "https://localhost:8080/",
          "height": 17
        },
        "outputId": "a892c826-d76c-48a5-f484-bfb76ab7629b"
      },
      "cell_type": "code",
      "source": [
        ""
      ],
      "execution_count": 90,
      "outputs": []
    }
  ]
}